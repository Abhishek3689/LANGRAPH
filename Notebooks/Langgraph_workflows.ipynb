{
  "nbformat": 4,
  "nbformat_minor": 0,
  "metadata": {
    "colab": {
      "provenance": [],
      "toc_visible": true
    },
    "kernelspec": {
      "name": "python3",
      "display_name": "Python 3"
    },
    "language_info": {
      "name": "python"
    }
  },
  "cells": [
    {
      "cell_type": "code",
      "execution_count": null,
      "metadata": {
        "colab": {
          "base_uri": "https://localhost:8080/"
        },
        "id": "lEkWigbLSRs6",
        "outputId": "2b682b0f-0ee5-411c-9273-7f2e64d35865"
      },
      "outputs": [
        {
          "output_type": "stream",
          "name": "stdout",
          "text": [
            "Requirement already satisfied: langchain in /usr/local/lib/python3.12/dist-packages (0.3.27)\n",
            "Collecting langchain-groq\n",
            "  Downloading langchain_groq-0.3.8-py3-none-any.whl.metadata (2.6 kB)\n",
            "Collecting langgraph\n",
            "  Downloading langgraph-0.6.10-py3-none-any.whl.metadata (6.8 kB)\n",
            "Requirement already satisfied: langchain-core in /usr/local/lib/python3.12/dist-packages (0.3.78)\n",
            "Requirement already satisfied: langchain-text-splitters<1.0.0,>=0.3.9 in /usr/local/lib/python3.12/dist-packages (from langchain) (0.3.11)\n",
            "Requirement already satisfied: langsmith>=0.1.17 in /usr/local/lib/python3.12/dist-packages (from langchain) (0.4.33)\n",
            "Requirement already satisfied: pydantic<3.0.0,>=2.7.4 in /usr/local/lib/python3.12/dist-packages (from langchain) (2.11.10)\n",
            "Requirement already satisfied: SQLAlchemy<3,>=1.4 in /usr/local/lib/python3.12/dist-packages (from langchain) (2.0.43)\n",
            "Requirement already satisfied: requests<3,>=2 in /usr/local/lib/python3.12/dist-packages (from langchain) (2.32.4)\n",
            "Requirement already satisfied: PyYAML>=5.3 in /usr/local/lib/python3.12/dist-packages (from langchain) (6.0.3)\n",
            "Collecting groq<1,>=0.30.0 (from langchain-groq)\n",
            "  Downloading groq-0.32.0-py3-none-any.whl.metadata (16 kB)\n",
            "Collecting langgraph-checkpoint<3.0.0,>=2.1.0 (from langgraph)\n",
            "  Downloading langgraph_checkpoint-2.1.2-py3-none-any.whl.metadata (4.2 kB)\n",
            "Collecting langgraph-prebuilt<0.7.0,>=0.6.0 (from langgraph)\n",
            "  Downloading langgraph_prebuilt-0.6.4-py3-none-any.whl.metadata (4.5 kB)\n",
            "Collecting langgraph-sdk<0.3.0,>=0.2.2 (from langgraph)\n",
            "  Downloading langgraph_sdk-0.2.9-py3-none-any.whl.metadata (1.5 kB)\n",
            "Requirement already satisfied: xxhash>=3.5.0 in /usr/local/lib/python3.12/dist-packages (from langgraph) (3.6.0)\n",
            "Requirement already satisfied: tenacity!=8.4.0,<10.0.0,>=8.1.0 in /usr/local/lib/python3.12/dist-packages (from langchain-core) (8.5.0)\n",
            "Requirement already satisfied: jsonpatch<2.0.0,>=1.33.0 in /usr/local/lib/python3.12/dist-packages (from langchain-core) (1.33)\n",
            "Requirement already satisfied: typing-extensions<5.0.0,>=4.7.0 in /usr/local/lib/python3.12/dist-packages (from langchain-core) (4.15.0)\n",
            "Requirement already satisfied: packaging<26.0.0,>=23.2.0 in /usr/local/lib/python3.12/dist-packages (from langchain-core) (25.0)\n",
            "Requirement already satisfied: anyio<5,>=3.5.0 in /usr/local/lib/python3.12/dist-packages (from groq<1,>=0.30.0->langchain-groq) (4.11.0)\n",
            "Requirement already satisfied: distro<2,>=1.7.0 in /usr/local/lib/python3.12/dist-packages (from groq<1,>=0.30.0->langchain-groq) (1.9.0)\n",
            "Requirement already satisfied: httpx<1,>=0.23.0 in /usr/local/lib/python3.12/dist-packages (from groq<1,>=0.30.0->langchain-groq) (0.28.1)\n",
            "Requirement already satisfied: sniffio in /usr/local/lib/python3.12/dist-packages (from groq<1,>=0.30.0->langchain-groq) (1.3.1)\n",
            "Requirement already satisfied: jsonpointer>=1.9 in /usr/local/lib/python3.12/dist-packages (from jsonpatch<2.0.0,>=1.33.0->langchain-core) (3.0.0)\n",
            "Collecting ormsgpack>=1.10.0 (from langgraph-checkpoint<3.0.0,>=2.1.0->langgraph)\n",
            "  Downloading ormsgpack-1.11.0-cp312-cp312-manylinux_2_17_x86_64.manylinux2014_x86_64.whl.metadata (1.2 kB)\n",
            "Requirement already satisfied: orjson>=3.10.1 in /usr/local/lib/python3.12/dist-packages (from langgraph-sdk<0.3.0,>=0.2.2->langgraph) (3.11.3)\n",
            "Requirement already satisfied: requests-toolbelt>=1.0.0 in /usr/local/lib/python3.12/dist-packages (from langsmith>=0.1.17->langchain) (1.0.0)\n",
            "Requirement already satisfied: zstandard>=0.23.0 in /usr/local/lib/python3.12/dist-packages (from langsmith>=0.1.17->langchain) (0.25.0)\n",
            "Requirement already satisfied: annotated-types>=0.6.0 in /usr/local/lib/python3.12/dist-packages (from pydantic<3.0.0,>=2.7.4->langchain) (0.7.0)\n",
            "Requirement already satisfied: pydantic-core==2.33.2 in /usr/local/lib/python3.12/dist-packages (from pydantic<3.0.0,>=2.7.4->langchain) (2.33.2)\n",
            "Requirement already satisfied: typing-inspection>=0.4.0 in /usr/local/lib/python3.12/dist-packages (from pydantic<3.0.0,>=2.7.4->langchain) (0.4.2)\n",
            "Requirement already satisfied: charset_normalizer<4,>=2 in /usr/local/lib/python3.12/dist-packages (from requests<3,>=2->langchain) (3.4.3)\n",
            "Requirement already satisfied: idna<4,>=2.5 in /usr/local/lib/python3.12/dist-packages (from requests<3,>=2->langchain) (3.10)\n",
            "Requirement already satisfied: urllib3<3,>=1.21.1 in /usr/local/lib/python3.12/dist-packages (from requests<3,>=2->langchain) (2.5.0)\n",
            "Requirement already satisfied: certifi>=2017.4.17 in /usr/local/lib/python3.12/dist-packages (from requests<3,>=2->langchain) (2025.10.5)\n",
            "Requirement already satisfied: greenlet>=1 in /usr/local/lib/python3.12/dist-packages (from SQLAlchemy<3,>=1.4->langchain) (3.2.4)\n",
            "Requirement already satisfied: httpcore==1.* in /usr/local/lib/python3.12/dist-packages (from httpx<1,>=0.23.0->groq<1,>=0.30.0->langchain-groq) (1.0.9)\n",
            "Requirement already satisfied: h11>=0.16 in /usr/local/lib/python3.12/dist-packages (from httpcore==1.*->httpx<1,>=0.23.0->groq<1,>=0.30.0->langchain-groq) (0.16.0)\n",
            "Downloading langchain_groq-0.3.8-py3-none-any.whl (16 kB)\n",
            "Downloading langgraph-0.6.10-py3-none-any.whl (155 kB)\n",
            "\u001b[2K   \u001b[90m━━━━━━━━━━━━━━━━━━━━━━━━━━━━━━━━━━━━━━━━\u001b[0m \u001b[32m155.4/155.4 kB\u001b[0m \u001b[31m5.2 MB/s\u001b[0m eta \u001b[36m0:00:00\u001b[0m\n",
            "\u001b[?25hDownloading groq-0.32.0-py3-none-any.whl (135 kB)\n",
            "\u001b[2K   \u001b[90m━━━━━━━━━━━━━━━━━━━━━━━━━━━━━━━━━━━━━━━━\u001b[0m \u001b[32m135.4/135.4 kB\u001b[0m \u001b[31m8.9 MB/s\u001b[0m eta \u001b[36m0:00:00\u001b[0m\n",
            "\u001b[?25hDownloading langgraph_checkpoint-2.1.2-py3-none-any.whl (45 kB)\n",
            "\u001b[2K   \u001b[90m━━━━━━━━━━━━━━━━━━━━━━━━━━━━━━━━━━━━━━━━\u001b[0m \u001b[32m45.8/45.8 kB\u001b[0m \u001b[31m2.7 MB/s\u001b[0m eta \u001b[36m0:00:00\u001b[0m\n",
            "\u001b[?25hDownloading langgraph_prebuilt-0.6.4-py3-none-any.whl (28 kB)\n",
            "Downloading langgraph_sdk-0.2.9-py3-none-any.whl (56 kB)\n",
            "\u001b[2K   \u001b[90m━━━━━━━━━━━━━━━━━━━━━━━━━━━━━━━━━━━━━━━━\u001b[0m \u001b[32m56.8/56.8 kB\u001b[0m \u001b[31m3.4 MB/s\u001b[0m eta \u001b[36m0:00:00\u001b[0m\n",
            "\u001b[?25hDownloading ormsgpack-1.11.0-cp312-cp312-manylinux_2_17_x86_64.manylinux2014_x86_64.whl (207 kB)\n",
            "\u001b[2K   \u001b[90m━━━━━━━━━━━━━━━━━━━━━━━━━━━━━━━━━━━━━━━━\u001b[0m \u001b[32m207.6/207.6 kB\u001b[0m \u001b[31m10.1 MB/s\u001b[0m eta \u001b[36m0:00:00\u001b[0m\n",
            "\u001b[?25hInstalling collected packages: ormsgpack, langgraph-sdk, groq, langgraph-checkpoint, langchain-groq, langgraph-prebuilt, langgraph\n",
            "Successfully installed groq-0.32.0 langchain-groq-0.3.8 langgraph-0.6.10 langgraph-checkpoint-2.1.2 langgraph-prebuilt-0.6.4 langgraph-sdk-0.2.9 ormsgpack-1.11.0\n"
          ]
        }
      ],
      "source": [
        "!pip install langchain langchain-groq langgraph langchain-core"
      ]
    },
    {
      "cell_type": "code",
      "source": [
        "import os\n",
        "from langchain_groq import ChatGroq\n",
        "from langgraph.graph import StateGraph,START,END\n",
        "from typing import TypedDict,Literal\n",
        "from langchain_core.output_parsers import StrOutputParser"
      ],
      "metadata": {
        "id": "eeYyZBHpSvS0"
      },
      "execution_count": null,
      "outputs": []
    },
    {
      "cell_type": "code",
      "source": [
        "from google.colab import userdata\n",
        "grok_key=userdata.get('GROQ_API_KEY')"
      ],
      "metadata": {
        "id": "6wW7ZYG9TVNC"
      },
      "execution_count": null,
      "outputs": []
    },
    {
      "cell_type": "code",
      "source": [
        "# os.getenv('grok_key')"
      ],
      "metadata": {
        "id": "b-f7TIR6TvFU"
      },
      "execution_count": null,
      "outputs": []
    },
    {
      "cell_type": "code",
      "source": [
        "llm=ChatGroq(model=\"llama-3.1-8b-instant\",max_tokens=1024,api_key=grok_key)"
      ],
      "metadata": {
        "id": "b8jxUH70Ty0P"
      },
      "execution_count": null,
      "outputs": []
    },
    {
      "cell_type": "code",
      "source": [
        "parser=StrOutputParser()"
      ],
      "metadata": {
        "id": "Qql412GXVsv0"
      },
      "execution_count": null,
      "outputs": []
    },
    {
      "cell_type": "code",
      "source": [
        "llm_parser=llm | parser"
      ],
      "metadata": {
        "id": "hAZhRVMRV2QL"
      },
      "execution_count": null,
      "outputs": []
    },
    {
      "cell_type": "code",
      "source": [
        "llm_parser.invoke(\"Who is the Pm of India\")"
      ],
      "metadata": {
        "colab": {
          "base_uri": "https://localhost:8080/",
          "height": 53
        },
        "id": "ExZWLWAvV6j8",
        "outputId": "54b892d3-b285-497b-f01d-0c3f538c0f89"
      },
      "execution_count": null,
      "outputs": [
        {
          "output_type": "execute_result",
          "data": {
            "text/plain": [
              "'Narendra Modi is the current Prime Minister of India. He has been serving as the 14th Prime Minister of India since May 26, 2014.'"
            ],
            "application/vnd.google.colaboratory.intrinsic+json": {
              "type": "string"
            }
          },
          "metadata": {},
          "execution_count": 8
        }
      ]
    },
    {
      "cell_type": "code",
      "source": [
        "class Chat_response(TypedDict):\n",
        "  topic:str\n",
        "  summary:str\n",
        "  key_points:str"
      ],
      "metadata": {
        "id": "84yYRfQvUF-l"
      },
      "execution_count": null,
      "outputs": []
    },
    {
      "cell_type": "code",
      "source": [
        "def topic_node(state:Chat_response):\n",
        "  prompt=f\"based on the mentioned topic give me a detail report not more than 200 words\\ntopic:{state['topic']}\"\n",
        "  result=llm_parser.invoke(prompt)\n",
        "  return {'summary':result}"
      ],
      "metadata": {
        "id": "CEiV4wzaViHF"
      },
      "execution_count": null,
      "outputs": []
    },
    {
      "cell_type": "code",
      "source": [
        "def summary_node(state:Chat_response):\n",
        "  prompt=f\"Based on the report generated. Extract 3 key points \\n{state['summary']}\"\n",
        "  result=llm_parser.invoke(prompt)\n",
        "  return {'key_points':result}"
      ],
      "metadata": {
        "id": "aEkC6oi6Wr-m"
      },
      "execution_count": null,
      "outputs": []
    },
    {
      "cell_type": "markdown",
      "source": [
        "## Sequential Graph"
      ],
      "metadata": {
        "id": "bsJl4AEkX-dA"
      }
    },
    {
      "cell_type": "code",
      "source": [
        "## define graph\n",
        "graph=StateGraph(Chat_response)\n",
        "\n",
        "## add node\n",
        "graph.add_node('topic_node',topic_node)\n",
        "graph.add_node('summary_node',summary_node)\n",
        "\n",
        "## add edges\n",
        "graph.add_edge(START,'topic_node')\n",
        "graph.add_edge('topic_node','summary_node')\n",
        "graph.add_edge('summary_node',END)\n",
        "\n",
        "#graph.compile\n",
        "workflow=graph.compile()"
      ],
      "metadata": {
        "id": "Tce1BHENUe17"
      },
      "execution_count": null,
      "outputs": []
    },
    {
      "cell_type": "code",
      "source": [
        "initial_state={'topic':\"Change in Education Methods\"}"
      ],
      "metadata": {
        "id": "fHAOPCiXVgqT"
      },
      "execution_count": null,
      "outputs": []
    },
    {
      "cell_type": "code",
      "source": [
        "response=workflow.invoke(initial_state)"
      ],
      "metadata": {
        "id": "WyK_Z-myXjTs"
      },
      "execution_count": null,
      "outputs": []
    },
    {
      "cell_type": "code",
      "source": [
        "response['summary']"
      ],
      "metadata": {
        "colab": {
          "base_uri": "https://localhost:8080/",
          "height": 174
        },
        "id": "9HOxhuYxXoZr",
        "outputId": "ad08c4f4-c2e5-4f90-9953-b329d6dea7c2"
      },
      "execution_count": null,
      "outputs": [
        {
          "output_type": "execute_result",
          "data": {
            "text/plain": [
              "'**Change in Education Methods**\\n\\nIn recent years, the education sector has undergone significant transformations with the introduction of new teaching methods, technologies, and learning approaches. The shift from traditional to modern education methods has been driven by the need to cater to the diverse needs of students and to prepare them for the rapidly changing world.\\n\\n**Key Changes:**\\n\\n1. **Digital Learning:** The integration of technology has enabled online learning platforms, virtual classrooms, and educational apps, making education more accessible and flexible.\\n2. **Personalized Learning:** Tailored learning experiences are now possible, allowing students to learn at their own pace and in their preferred style.\\n3. **Project-Based Learning:** Students are now encouraged to work on real-world projects, fostering critical thinking, creativity, and collaboration.\\n4. **Flipped Classrooms:** The traditional teacher-centered approach has given way to student-centered learning, with students learning at home and interacting with teachers in class.\\n5. **Competency-Based Progression:** Students progress based on their mastery of skills and knowledge, rather than age or grade level.\\n\\n**Benefits:** These changes have led to improved student engagement, higher retention rates, and better academic outcomes.'"
            ],
            "application/vnd.google.colaboratory.intrinsic+json": {
              "type": "string"
            }
          },
          "metadata": {},
          "execution_count": 15
        }
      ]
    },
    {
      "cell_type": "code",
      "source": [
        "response['key_points']"
      ],
      "metadata": {
        "colab": {
          "base_uri": "https://localhost:8080/",
          "height": 140
        },
        "id": "4aW3kenoXp3I",
        "outputId": "93dc228b-7e9d-4a8e-ffe3-d111c3268c66"
      },
      "execution_count": null,
      "outputs": [
        {
          "output_type": "execute_result",
          "data": {
            "text/plain": [
              "'Based on the report, here are 3 key points:\\n\\n1. **Digital Learning has become a key component in education**: The integration of technology has enabled online learning platforms, virtual classrooms, and educational apps, making education more accessible and flexible.\\n\\n2. **Personalized Learning has become more tailored**: Students can now learn at their own pace and in their preferred style, with tailored learning experiences that cater to their diverse needs.\\n\\n3. **Modern education methods focus on real-world application**: Project-Based Learning, Flipped Classrooms, and Competency-Based Progression are all designed to foster critical thinking, creativity, and collaboration by giving students real-world projects to work on.'"
            ],
            "application/vnd.google.colaboratory.intrinsic+json": {
              "type": "string"
            }
          },
          "metadata": {},
          "execution_count": 16
        }
      ]
    },
    {
      "cell_type": "markdown",
      "source": [
        "## Parallel Workflows"
      ],
      "metadata": {
        "id": "OKDjxA_gYVnn"
      }
    },
    {
      "cell_type": "code",
      "source": [
        "class debate_answer(TypedDict):\n",
        "  topic:str\n",
        "  pro_response:str\n",
        "  con_response:str\n",
        "  summary:str"
      ],
      "metadata": {
        "id": "QaatPJgWZp6F"
      },
      "execution_count": null,
      "outputs": []
    },
    {
      "cell_type": "code",
      "source": [
        "def pro_debater(state:debate_answer):\n",
        "  prompt=f\"You are a pro debater and based on the topic mentioned provide an explanation  , be a strict pro debater and answer not more than 200 words \\n topic:{state['topic']}\"\n",
        "  result=llm_parser.invoke(prompt)\n",
        "  return {'pro_response':result}"
      ],
      "metadata": {
        "id": "d3kPK6b0aqwn"
      },
      "execution_count": null,
      "outputs": []
    },
    {
      "cell_type": "code",
      "source": [
        "def con_debater(state:debate_answer):\n",
        "  prompt=f\"You are a con debater and based on the topic mentioned provide an explanation to argue bt limit to 200 words \\n topic:{state['topic']}\"\n",
        "  result=llm_parser.invoke(prompt)\n",
        "  return {'con_response':result}"
      ],
      "metadata": {
        "id": "Z6TjkwCObaB3"
      },
      "execution_count": null,
      "outputs": []
    },
    {
      "cell_type": "code",
      "source": [
        "def summary_generation(state:debate_answer):\n",
        "  prompt=f\"\"\"Combined the pro response and con response and generate a brief summary based on the responses \\n\n",
        "  pro response:{state['pro_response']}\\n\n",
        "  con response:{state['con_response']}\"\"\"\n",
        "  result=llm_parser.invoke(prompt)\n",
        "  return {'summary':result}"
      ],
      "metadata": {
        "id": "VqPOfOLxbtOF"
      },
      "execution_count": null,
      "outputs": []
    },
    {
      "cell_type": "code",
      "source": [
        "graph=StateGraph(debate_answer)\n",
        "\n",
        "## add node\n",
        "graph.add_node('pro_debater',pro_debater)\n",
        "graph.add_node('con_debater',con_debater)\n",
        "graph.add_node('summary_generation',summary_generation)\n",
        "\n",
        "## add Edges\n",
        "graph.add_edge(START,'pro_debater')\n",
        "graph.add_edge(START,'con_debater')\n",
        "graph.add_edge('pro_debater','summary_generation')\n",
        "graph.add_edge('con_debater','summary_generation')\n",
        "graph.add_edge('summary_generation',END)\n",
        "\n",
        "#compile\n",
        "workflow=graph.compile()"
      ],
      "metadata": {
        "id": "WfRAFqfbYubh"
      },
      "execution_count": null,
      "outputs": []
    },
    {
      "cell_type": "code",
      "source": [
        "workflow"
      ],
      "metadata": {
        "colab": {
          "base_uri": "https://localhost:8080/",
          "height": 350
        },
        "id": "CKa4e_vrdZDn",
        "outputId": "26621bbf-3085-49a8-ff98-ae69b3f08a07"
      },
      "execution_count": null,
      "outputs": [
        {
          "output_type": "execute_result",
          "data": {
            "text/plain": [
              "<langgraph.graph.state.CompiledStateGraph object at 0x7c867f9f4470>"
            ],
            "image/png": "[encoded data removed]"
          },
          "metadata": {},
          "execution_count": 22
        }
      ]
    },
    {
      "cell_type": "code",
      "source": [
        "initial_state={'topic':\"What do you think about Constrution of Road in Himalaya Mountain region\"}"
      ],
      "metadata": {
        "id": "rxgNOdLKcq3P"
      },
      "execution_count": null,
      "outputs": []
    },
    {
      "cell_type": "code",
      "source": [
        "response=workflow.invoke(initial_state)"
      ],
      "metadata": {
        "id": "ZEMimXbjdJbm"
      },
      "execution_count": null,
      "outputs": []
    },
    {
      "cell_type": "code",
      "source": [
        "response"
      ],
      "metadata": {
        "colab": {
          "base_uri": "https://localhost:8080/"
        },
        "id": "nNkytBpXdLpe",
        "outputId": "e0bcf7c1-0afe-4283-bb04-07b44cfb7e50"
      },
      "execution_count": null,
      "outputs": [
        {
          "output_type": "execute_result",
          "data": {
            "text/plain": [
              "{'topic': 'What do you think about Constrution of Road in Himalaya Mountain region',\n",
              " 'pro_response': \"The construction of roads in the Himalaya mountain region is a contentious issue. While it may provide economic benefits and connectivity to remote areas, the risks far outweigh the gains.\\n\\nFirstly, the fragile ecosystem of the Himalayas is under immense pressure from human activity. Construction activities lead to soil erosion, landslides, and deforestation, which can have devastating consequences for the environment. The Himalayas are also home to numerous endangered species, and the construction of roads poses a significant threat to their survival.\\n\\nSecondly, the high altitude and rugged terrain of the Himalayas make construction a challenging and expensive process. The costs of building and maintaining roads in this region far exceed the benefits, making it a financially unsustainable endeavor.\\n\\nLastly, the construction of roads in the Himalayas will lead to an influx of tourists, which can put a strain on local resources and infrastructure. The region's unique culture and environment are already under threat from over-tourism, and the construction of roads will only exacerbate this problem.\\n\\nIn conclusion, the construction of roads in the Himalaya mountain region is a misguided endeavor that prioritizes economic gain over environmental and cultural preservation.\",\n",
              " 'con_response': 'The notion of constructing roads in the Himalayan mountain region is a contentious issue. While it may seem like a straightforward infrastructure development project, there are several reasons why I strongly oppose it.\\n\\nFirstly, the fragile ecosystem of the Himalayas is already under immense pressure from climate change, deforestation, and pollution. Construction activities would further exacerbate these problems, leading to irreversible damage to the environment.\\n\\nSecondly, the harsh terrain and unpredictable weather conditions in the Himalayas make it an extremely challenging and costly project. The risk of landslides, avalanches, and other natural disasters is high, which could result in significant financial losses and human casualties.\\n\\nLastly, the benefits of constructing roads in the Himalayas are largely overstated. While it may provide temporary employment and economic growth, it would also lead to an influx of tourists, which could disrupt the fragile local culture and ecology. In conclusion, the construction of roads in the Himalayan mountain region is a shortsighted and irresponsible venture that prioritizes economic gain over environmental and social concerns.',\n",
              " 'summary': \"**Combined Response**\\n\\nThe construction of roads in the Himalayan mountain region is a highly debated issue, with both proponents and opponents presenting strong arguments. However, the risks associated with road construction in this fragile and sensitive region far outweigh the potential benefits.\\n\\n**Summary:**\\n\\nThe construction of roads in the Himalayas poses significant environmental, economic, and social concerns. The region's fragile ecosystem is under immense pressure from human activity, and construction activities would exacerbate problems such as soil erosion, landslides, and deforestation. The high altitude and rugged terrain of the Himalayas make construction a challenging and expensive process, with significant financial risks. Additionally, the influx of tourists that would follow road construction would put a strain on local resources and infrastructure, threatening the region's unique culture and environment. Ultimately, the construction of roads in the Himalayas is a shortsighted and irresponsible endeavor that prioritizes economic gain over environmental and social concerns.\\n\\n**Key Points:**\\n\\n- Environmental concerns: soil erosion, landslides, deforestation, and threat to endangered species\\n- Economic concerns: high construction costs, financial risks, and temporary economic benefits\\n- Social concerns: strain on local resources, infrastructure, and unique culture\\n- Risks: landslides, avalanches, natural disasters, and human casualties\"}"
            ]
          },
          "metadata": {},
          "execution_count": 25
        }
      ]
    },
    {
      "cell_type": "markdown",
      "source": [
        "## Conditional Workflows"
      ],
      "metadata": {
        "id": "mMQ2DU2UdmDi"
      }
    },
    {
      "cell_type": "code",
      "source": [
        "from pydantic import BaseModel,Field\n",
        "from typing import Annotated"
      ],
      "metadata": {
        "id": "jf60CmuBFP91"
      },
      "execution_count": null,
      "outputs": []
    },
    {
      "cell_type": "code",
      "source": [
        "class intent_classify(BaseModel):\n",
        "  intent:Literal['billing','technical']=Field(description=\"Intent of the user Query\")"
      ],
      "metadata": {
        "id": "X0w5k9SbFX89"
      },
      "execution_count": null,
      "outputs": []
    },
    {
      "cell_type": "code",
      "source": [
        "llm_structure1=llm.with_structured_output(intent_classify)"
      ],
      "metadata": {
        "id": "sPfGYkNQF0JO"
      },
      "execution_count": null,
      "outputs": []
    },
    {
      "cell_type": "code",
      "source": [
        "llm_structure1.invoke(\"I was charged twice for my monthly subscription last week. Can you help me get a refund?\")"
      ],
      "metadata": {
        "colab": {
          "base_uri": "https://localhost:8080/"
        },
        "id": "C5MGwxTTGE6y",
        "outputId": "1b96d3d1-b945-4025-ab4d-feb9d9b7ae84"
      },
      "execution_count": null,
      "outputs": [
        {
          "output_type": "execute_result",
          "data": {
            "text/plain": [
              "intent_classify(intent='billing')"
            ]
          },
          "metadata": {},
          "execution_count": 56
        }
      ]
    },
    {
      "cell_type": "code",
      "source": [
        "class user_queries(TypedDict):\n",
        "  topic:str\n",
        "  query:str\n",
        "  intent:Literal['billing','technical']\n",
        "  billing_mail:str\n",
        "  technical_mail:str\n",
        "  # resolution:str\n"
      ],
      "metadata": {
        "id": "g3YDKjZx9Xxv"
      },
      "execution_count": null,
      "outputs": []
    },
    {
      "cell_type": "code",
      "source": [
        "def query_generation(state:user_queries):\n",
        "  prompt=f\"generate a sample query based on {state['topic']}\"\n",
        "  result=llm_parser.invoke(prompt)\n",
        "  return {'query':result}"
      ],
      "metadata": {
        "id": "0ldfu3AX__W2"
      },
      "execution_count": null,
      "outputs": []
    },
    {
      "cell_type": "code",
      "source": [
        "def intent_classification(state:user_queries):\n",
        "  prompt=f\"\"\"Based on the mentioned query classify the intent as either billing or technical only\\n\n",
        "  query:{state['query']}\"\"\"\n",
        "  result=llm_structure1.invoke(prompt)\n",
        "  return {'intent':result.intent}"
      ],
      "metadata": {
        "id": "crRIyTYIB6y-"
      },
      "execution_count": null,
      "outputs": []
    },
    {
      "cell_type": "code",
      "source": [
        "def check_query(state:user_queries):\n",
        "  if state['intent']=='billing':\n",
        "    return 'billing_query_node'\n",
        "  else:\n",
        "    return 'technical_query_node'"
      ],
      "metadata": {
        "id": "cf2ExmWLA_fW"
      },
      "execution_count": null,
      "outputs": []
    },
    {
      "cell_type": "code",
      "source": [
        "def billing_query_node(state:user_queries):\n",
        "  prompt=f\"\"\"You are a helpful customer support agent specializing in billing issues.\n",
        "    The user has asked the following billing-related question:\n",
        "\n",
        "    \"{state['query']}\"\n",
        "\n",
        "    Respond in a friendly, professional, and empathetic tone.\n",
        "    - Acknowledge their concern.\n",
        "    - Explain what you can do to help.\n",
        "    - If the query is unclear, politely ask for more details (e.g., invoice ID, date, amount).\n",
        "    - Do NOT make promises about refunds or system changes you can't guarantee.\n",
        "    - Keep the response under 3 sentences.\n",
        "  \"\"\"\n",
        "  result=llm_parser.invoke(prompt)\n",
        "  return {'billing_mail':result}"
      ],
      "metadata": {
        "id": "nAcqioJKJ3xZ"
      },
      "execution_count": null,
      "outputs": []
    },
    {
      "cell_type": "code",
      "source": [
        "def technical_query_node(state:user_queries):\n",
        "  prompt = f\"\"\"You are a knowledgeable technical support engineer.\n",
        "    The user has reported the following technical issue:\n",
        "\n",
        "    \"{state['query']}\"\n",
        "\n",
        "    Respond in a clear, calm, and solution-oriented tone.\n",
        "    - Show understanding of the problem.\n",
        "    - Offer a likely cause or first troubleshooting step.\n",
        "    - If the issue is complex, suggest gathering more info (e.g., logs, error message, OS version).\n",
        "    - Avoid jargon unless necessary; explain terms simply.\n",
        "    - Keep it under 3 sentences.\"\"\"\n",
        "  result=llm_parser.invoke(prompt)\n",
        "  return {'technical_mail':result}\n"
      ],
      "metadata": {
        "id": "oIQNvmhjKtpQ"
      },
      "execution_count": null,
      "outputs": []
    },
    {
      "cell_type": "code",
      "source": [],
      "metadata": {
        "id": "xvzIuOepLs0o"
      },
      "execution_count": null,
      "outputs": []
    },
    {
      "cell_type": "code",
      "source": [
        "# define graph\n",
        "graph=StateGraph(user_queries)\n",
        "\n",
        "# add nodes\n",
        "graph.add_node('query_generation',query_generation)\n",
        "graph.add_node('intent_classification',intent_classification)\n",
        "graph.add_node('billing_query_node',billing_query_node)\n",
        "graph.add_node('technical_query_node',technical_query_node)\n",
        "# graph.add_node('resolution_summary',resolution_summary)\n",
        "\n",
        "# add edges\n",
        "graph.add_edge(START,'query_generation')\n",
        "graph.add_edge('query_generation','intent_classification')\n",
        "# graph.add_edge('intent_classification',END)\n",
        "graph.add_conditional_edges('intent_classification',check_query,{'billing_query_node':'billing_query_node','technical_query_node':'technical_query_node'})\n",
        "graph.add_edge('technical_query_node',END)\n",
        "graph.add_edge('billing_query_node',END)\n",
        "# graph.add_edge('resolution_summary',END)\n",
        "\n",
        "## compile\n",
        "workflow=graph.compile()\n"
      ],
      "metadata": {
        "id": "qiEeo3FP9yYm"
      },
      "execution_count": null,
      "outputs": []
    },
    {
      "cell_type": "code",
      "source": [
        "workflow"
      ],
      "metadata": {
        "colab": {
          "base_uri": "https://localhost:8080/",
          "height": 449
        },
        "id": "eY0N99UoCx6Z",
        "outputId": "6640cb01-83f1-458e-c58d-44d52e62d9e5"
      },
      "execution_count": null,
      "outputs": [
        {
          "output_type": "execute_result",
          "data": {
            "text/plain": [
              "<langgraph.graph.state.CompiledStateGraph object at 0x7c86689d0d40>"
            ],
            "image/png": "[encoded data removed]"
          },
          "metadata": {},
          "execution_count": 85
        }
      ]
    },
    {
      "cell_type": "code",
      "source": [
        "response=workflow.invoke({'topic':'I canceled my plan, but I still see a pending charge. '})"
      ],
      "metadata": {
        "id": "lBvwgoLKCzBl"
      },
      "execution_count": null,
      "outputs": []
    },
    {
      "cell_type": "code",
      "source": [
        "response"
      ],
      "metadata": {
        "colab": {
          "base_uri": "https://localhost:8080/"
        },
        "id": "9Q7zHbjpDBnq",
        "outputId": "db17e5ea-e006-4208-d75e-e530024c6f1c"
      },
      "execution_count": null,
      "outputs": [
        {
          "output_type": "execute_result",
          "data": {
            "text/plain": [
              "{'topic': 'I canceled my plan, but I still see a pending charge. ',\n",
              " 'query': \"Here's a sample SQL query that can help identify pending charges after a plan has been canceled:\\n\\n**Table Structure**\\n\\nLet's assume we have the following table structure:\\n\\n```sql\\nCREATE TABLE customers (\\n    id INT PRIMARY KEY,\\n    name VARCHAR(255),\\n    plan_id INT\\n);\\n\\nCREATE TABLE plans (\\n    id INT PRIMARY KEY,\\n    name VARCHAR(255),\\n    price DECIMAL(10, 2)\\n);\\n\\nCREATE TABLE transactions (\\n    id INT PRIMARY KEY,\\n    customer_id INT,\\n    plan_id INT,\\n    charge_date DATE,\\n    amount DECIMAL(10, 2),\\n    status VARCHAR(255)\\n);\\n```\\n\\n**Sample Query**\\n\\n```sql\\nSELECT \\n    c.id AS customer_id,\\n    c.name AS customer_name,\\n    p.name AS plan_name,\\n    t.id AS transaction_id,\\n    t.charge_date AS charge_date,\\n    t.amount AS amount,\\n    t.status AS transaction_status\\nFROM \\n    customers c\\nJOIN \\n    transactions t ON c.id = t.customer_id\\nJOIN \\n    plans p ON t.plan_id = p.id\\nWHERE \\n    c.plan_id = p.id\\n    AND t.status = 'PENDING'\\n    AND c.plan_id NOT IN (\\n        SELECT \\n            id \\n        FROM \\n            plans \\n        WHERE \\n            name LIKE 'canceled-plan'  -- Replace with your actual plan name\\n    );\\n```\\n\\n**Explanation**\\n\\nThis query joins the `customers`, `transactions`, and `plans` tables to identify pending charges for customers who have canceled their plans. The query filters out transactions with a status of 'PENDING' and plan IDs that match the canceled plan name.\\n\\n**Example Use Case**\\n\\nSuppose you have a customer named 'John Doe' who has a plan named 'Basic Plan' with a price of $9.99. John canceled his plan, but you still see a pending charge for $9.99. Running this query would return the transaction ID, charge date, amount, and status for the pending charge, helping you identify the issue and resolve it accordingly.\\n\\nPlease note that this is a sample query and may need to be modified to fit your specific database schema and requirements.\",\n",
              " 'intent': 'billing',\n",
              " 'billing_mail': \"I understand that you're concerned about pending charges after a plan has been canceled. To help you identify the issue, I'd like to walk you through the provided SQL query and understand more about your specific situation, such as the invoice ID, date, and amount of the pending charge. Once I have more information, I can assist you in resolving the issue.\"}"
            ]
          },
          "metadata": {},
          "execution_count": 89
        }
      ]
    },
    {
      "cell_type": "code",
      "source": [
        "response['intent']"
      ],
      "metadata": {
        "colab": {
          "base_uri": "https://localhost:8080/",
          "height": 35
        },
        "id": "1UoAZy-DDUNi",
        "outputId": "e104f0a4-d59f-4f25-b57b-7d58658afef6"
      },
      "execution_count": null,
      "outputs": [
        {
          "output_type": "execute_result",
          "data": {
            "text/plain": [
              "'technical'"
            ],
            "application/vnd.google.colaboratory.intrinsic+json": {
              "type": "string"
            }
          },
          "metadata": {},
          "execution_count": 72
        }
      ]
    },
    {
      "cell_type": "code",
      "source": [],
      "metadata": {
        "id": "w5Xuaj85Dq7h"
      },
      "execution_count": null,
      "outputs": []
    }
  ]
}